{
 "cells": [
  {
   "cell_type": "code",
   "execution_count": 1,
   "metadata": {},
   "outputs": [],
   "source": [
    "import itertools\n",
    "import json\n",
    "\n",
    "obstacle = [''.join(s) for s in list(itertools.product(*[['0','1']] * 4))]\n",
    "t_up = ['0','1']\n",
    "t_right = ['0','1']\n",
    "t_down= ['0','1']\n",
    "t_left= ['0','1']\n",
    "\n",
    "q_table = {}\n",
    "for u in t_up:\n",
    "    for r in t_right:\n",
    "        for d in t_down:\n",
    "            for l in t_left:\n",
    "                for k in obstacle:\n",
    "                    q_table[str((u,r,d,l,k))] = [0,0,0,0]\n",
    "\n",
    "with open(\"qvalues.json\", \"w\") as f:\n",
    "    json.dump(q_table, f)"
   ]
  },
  {
   "cell_type": "code",
   "execution_count": null,
   "metadata": {},
   "outputs": [],
   "source": []
  }
 ],
 "metadata": {
  "kernelspec": {
   "display_name": "Python 3",
   "language": "python",
   "name": "python3"
  },
  "language_info": {
   "codemirror_mode": {
    "name": "ipython",
    "version": 3
   },
   "file_extension": ".py",
   "mimetype": "text/x-python",
   "name": "python",
   "nbconvert_exporter": "python",
   "pygments_lexer": "ipython3",
   "version": "3.7.3"
  }
 },
 "nbformat": 4,
 "nbformat_minor": 2
}
